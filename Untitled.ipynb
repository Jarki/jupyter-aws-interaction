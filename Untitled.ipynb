{
 "cells": [
  {
   "cell_type": "code",
   "execution_count": 55,
   "id": "7b6da0e2",
   "metadata": {},
   "outputs": [],
   "source": [
    "import requests\n",
    "\n",
    "search_parameters = {\n",
    "    'start': '20210101', \n",
    "    'end': '20211231',\n",
    "    'valcode': 'usd',\n",
    "    'sort': 'exchangedate',\n",
    "    'order': 'asc',\n",
    "    'json': ''\n",
    "}\n",
    "\n",
    "r = requests.get('https://bank.gov.ua/NBU_Exchange/exchange_site', params=search_parameters, headers={'ContentType':'application/json'})"
   ]
  },
  {
   "cell_type": "code",
   "execution_count": 56,
   "id": "eb558bcf",
   "metadata": {},
   "outputs": [
    {
     "name": "stdout",
     "output_type": "stream",
     "text": [
      "Entries: 365\n",
      "['exchangedate', 'r030', 'cc', 'txt', 'enname', 'rate', 'units', 'rate_per_unit', 'group', 'calcdate']\n"
     ]
    },
    {
     "data": {
      "text/plain": [
       "{'exchangedate': '01.01.2021',\n",
       " 'r030': 840,\n",
       " 'cc': 'USD',\n",
       " 'txt': 'Долар США',\n",
       " 'enname': 'US Dollar',\n",
       " 'rate': 28.2746,\n",
       " 'units': 1,\n",
       " 'rate_per_unit': 28.2746,\n",
       " 'group': '1',\n",
       " 'calcdate': '30.12.2020'}"
      ]
     },
     "execution_count": 56,
     "metadata": {},
     "output_type": "execute_result"
    }
   ],
   "source": [
    "json_data = r.json()\n",
    "print(f'Entries: {len(json_data)}')\n",
    "\n",
    "keys = list(json_data[0].keys())\n",
    "\n",
    "print(keys)\n",
    "json_data[0]"
   ]
  },
  {
   "cell_type": "code",
   "execution_count": 57,
   "id": "04f0b3ef",
   "metadata": {},
   "outputs": [
    {
     "name": "stdout",
     "output_type": "stream",
     "text": [
      "['01.01.2021', 840, 'USD', 'Долар США', 'US Dollar', 28.2746, 1, 28.2746, '1', '30.12.2020']\n"
     ]
    }
   ],
   "source": [
    "print(list(json_data[0].values()))"
   ]
  },
  {
   "cell_type": "code",
   "execution_count": 58,
   "id": "40a0580d",
   "metadata": {},
   "outputs": [],
   "source": [
    "import json\n",
    "import csv \n",
    "\n",
    "out = csv.writer(open('out.csv', 'w'))\n",
    "\n",
    "# write header\n",
    "out.writerow(keys)\n",
    "\n",
    "# write data\n",
    "for entry in json_data:\n",
    "    out.writerow(list(entry.values()))"
   ]
  },
  {
   "cell_type": "code",
   "execution_count": 59,
   "id": "a4f3452e",
   "metadata": {},
   "outputs": [
    {
     "name": "stdout",
     "output_type": "stream",
     "text": [
      "exchangedate,r030,cc,txt,enname,rate,units,rate_per_unit,group,calcdate\n",
      "\n",
      "01.01.2021,840,USD,Долар США,US Dollar,28.2746,1,28.2746,1,30.12.2020\n",
      "\n",
      "Entries: 366\n"
     ]
    }
   ],
   "source": [
    "out = open('out.csv', 'r')\n",
    "\n",
    "out = out.readlines()\n",
    "\n",
    "print(out[0])\n",
    "print(out[1])\n",
    "print(f'Entries: {len(out)}')"
   ]
  },
  {
   "cell_type": "code",
   "execution_count": 60,
   "id": "d7ef48fc",
   "metadata": {},
   "outputs": [],
   "source": [
    "import boto3\n",
    "\n",
    "s3 = boto3.client('s3')\n",
    "response = s3.list_buckets()"
   ]
  },
  {
   "cell_type": "code",
   "execution_count": 61,
   "id": "c7b5056e",
   "metadata": {},
   "outputs": [],
   "source": [
    "bucket_name = response['Buckets'][0]['Name']"
   ]
  },
  {
   "cell_type": "code",
   "execution_count": 62,
   "id": "b778056f",
   "metadata": {},
   "outputs": [
    {
     "data": {
      "text/plain": [
       "True"
      ]
     },
     "execution_count": 62,
     "metadata": {},
     "output_type": "execute_result"
    }
   ],
   "source": [
    "import os\n",
    "\n",
    "object_name = os.path.basename('out.csv')\n",
    "\n",
    "def upload_file(file_name, bucket, object_name=None):\n",
    "    s3_client = boto3.client('s3')\n",
    "    \n",
    "    if object_name is None:\n",
    "        object_name = os.path.basename(file_name)\n",
    "    \n",
    "    try:\n",
    "        response = s3_client.upload_file(file_name, bucket, object_name)\n",
    "    except ClientError as e:\n",
    "        return False\n",
    "    return True\n",
    "        \n",
    "upload_file('out.csv', bucket_name, object_name)"
   ]
  },
  {
   "cell_type": "code",
   "execution_count": 63,
   "id": "26f35473",
   "metadata": {},
   "outputs": [
    {
     "data": {
      "text/plain": [
       "'out.csv'"
      ]
     },
     "execution_count": 63,
     "metadata": {},
     "output_type": "execute_result"
    }
   ],
   "source": [
    "object_name"
   ]
  },
  {
   "cell_type": "code",
   "execution_count": 64,
   "id": "15709704",
   "metadata": {},
   "outputs": [
    {
     "data": {
      "text/plain": [
       "True"
      ]
     },
     "execution_count": 64,
     "metadata": {},
     "output_type": "execute_result"
    }
   ],
   "source": [
    "def download_file(bucket, object_name, file_name):\n",
    "    s3 = boto3.client('s3')\n",
    "    \n",
    "    try:\n",
    "        response = s3.download_file(bucket, object_name, file_name)\n",
    "        \n",
    "    except ClientError as e:\n",
    "        return False\n",
    "    \n",
    "    return True\n",
    "\n",
    "downloaded_name = 'downloaded.csv'\n",
    "download_file(bucket_name, object_name, downloaded_name)"
   ]
  },
  {
   "cell_type": "code",
   "execution_count": 65,
   "id": "c72b1e1f",
   "metadata": {},
   "outputs": [
    {
     "name": "stdout",
     "output_type": "stream",
     "text": [
      "01.01.2021,840,USD,Долар США,US Dollar,28.2746,1,28.2746,1,30.12.2020\n",
      "\n",
      "02.01.2021,840,USD,Долар США,US Dollar,28.2746,1,28.2746,1,30.12.2020\n",
      "\n"
     ]
    }
   ],
   "source": [
    "downloaded = open(downloaded_name, 'r').readlines()\n",
    "rates = downloaded.pop(0)\n",
    "\n",
    "print(downloaded[0])\n",
    "print(downloaded[1])"
   ]
  },
  {
   "cell_type": "code",
   "execution_count": 66,
   "id": "e7a1ccc7",
   "metadata": {},
   "outputs": [
    {
     "name": "stdout",
     "output_type": "stream",
     "text": [
      "365\n"
     ]
    },
    {
     "data": {
      "text/plain": [
       "[28.2746,\n",
       " 28.2746,\n",
       " 28.2746,\n",
       " 28.2746,\n",
       " 28.431,\n",
       " 28.4028,\n",
       " 28.4028,\n",
       " 28.4028,\n",
       " 28.4028,\n",
       " 28.4028,\n",
       " 28.2847,\n",
       " 28.2038,\n",
       " 28.046,\n",
       " 27.9705,\n",
       " 28.0609,\n",
       " 28.0524,\n",
       " 28.0524,\n",
       " 28.0524,\n",
       " 28.1926,\n",
       " 28.1544,\n",
       " 28.2035,\n",
       " 28.2561,\n",
       " 28.2561,\n",
       " 28.2561,\n",
       " 28.1648,\n",
       " 28.1665,\n",
       " 28.1524,\n",
       " 28.1652,\n",
       " 28.1929,\n",
       " 28.1929,\n",
       " 28.1929,\n",
       " 28.1324,\n",
       " 28.0603,\n",
       " 28.0589,\n",
       " 27.995,\n",
       " 27.8885,\n",
       " 27.8885,\n",
       " 27.8885,\n",
       " 27.7711,\n",
       " 27.6651,\n",
       " 27.6426,\n",
       " 27.7665,\n",
       " 27.8384,\n",
       " 27.8384,\n",
       " 27.8384,\n",
       " 27.844,\n",
       " 27.9671,\n",
       " 27.8304,\n",
       " 27.9038,\n",
       " 27.8461,\n",
       " 27.8461,\n",
       " 27.8461,\n",
       " 27.8468,\n",
       " 27.9304,\n",
       " 27.8976,\n",
       " 27.9492,\n",
       " 27.9301,\n",
       " 27.9301,\n",
       " 27.9301,\n",
       " 27.9456,\n",
       " 28.0007,\n",
       " 27.933,\n",
       " 27.8477,\n",
       " 27.7564,\n",
       " 27.7564,\n",
       " 27.7564,\n",
       " 27.7564,\n",
       " 27.7091,\n",
       " 27.7431,\n",
       " 27.7016,\n",
       " 27.7486,\n",
       " 27.7486,\n",
       " 27.7486,\n",
       " 27.7305,\n",
       " 27.6434,\n",
       " 27.6525,\n",
       " 27.6978,\n",
       " 27.6828,\n",
       " 27.6828,\n",
       " 27.6828,\n",
       " 27.7184,\n",
       " 27.6871,\n",
       " 27.7295,\n",
       " 27.8706,\n",
       " 27.9698,\n",
       " 27.9698,\n",
       " 27.9698,\n",
       " 27.9679,\n",
       " 27.9694,\n",
       " 27.8852,\n",
       " 27.8226,\n",
       " 27.8324,\n",
       " 27.8324,\n",
       " 27.8324,\n",
       " 27.9555,\n",
       " 27.939,\n",
       " 27.8384,\n",
       " 27.8923,\n",
       " 27.9768,\n",
       " 27.9768,\n",
       " 27.9768,\n",
       " 27.9094,\n",
       " 27.9335,\n",
       " 28.0156,\n",
       " 27.9765,\n",
       " 27.9592,\n",
       " 27.9592,\n",
       " 27.9592,\n",
       " 27.9783,\n",
       " 28.0087,\n",
       " 28.0096,\n",
       " 28.0576,\n",
       " 28.0642,\n",
       " 28.0642,\n",
       " 28.0642,\n",
       " 27.9014,\n",
       " 27.8558,\n",
       " 27.7715,\n",
       " 27.7867,\n",
       " 27.75,\n",
       " 27.75,\n",
       " 27.75,\n",
       " 27.75,\n",
       " 27.75,\n",
       " 27.733,\n",
       " 27.7339,\n",
       " 27.7205,\n",
       " 27.7205,\n",
       " 27.7205,\n",
       " 27.7205,\n",
       " 27.7641,\n",
       " 27.6744,\n",
       " 27.6318,\n",
       " 27.6273,\n",
       " 27.6273,\n",
       " 27.6273,\n",
       " 27.6142,\n",
       " 27.555,\n",
       " 27.4368,\n",
       " 27.4166,\n",
       " 27.4665,\n",
       " 27.4665,\n",
       " 27.4665,\n",
       " 27.4572,\n",
       " 27.4281,\n",
       " 27.4553,\n",
       " 27.5461,\n",
       " 27.526,\n",
       " 27.526,\n",
       " 27.526,\n",
       " 27.5004,\n",
       " 27.4674,\n",
       " 27.4381,\n",
       " 27.3449,\n",
       " 27.34,\n",
       " 27.34,\n",
       " 27.34,\n",
       " 27.2914,\n",
       " 27.1923,\n",
       " 27.1764,\n",
       " 27.0906,\n",
       " 27.1068,\n",
       " 27.1068,\n",
       " 27.1068,\n",
       " 27.0404,\n",
       " 26.9957,\n",
       " 26.9258,\n",
       " 27.0275,\n",
       " 27.1712,\n",
       " 27.1712,\n",
       " 27.1712,\n",
       " 27.1712,\n",
       " 27.1935,\n",
       " 27.305,\n",
       " 27.2737,\n",
       " 27.4589,\n",
       " 27.4589,\n",
       " 27.4589,\n",
       " 27.4589,\n",
       " 27.3964,\n",
       " 27.1763,\n",
       " 27.2275,\n",
       " 27.3841,\n",
       " 27.3841,\n",
       " 27.3841,\n",
       " 27.4121,\n",
       " 27.2904,\n",
       " 27.2497,\n",
       " 27.2993,\n",
       " 27.2862,\n",
       " 27.2862,\n",
       " 27.2862,\n",
       " 27.3234,\n",
       " 27.2904,\n",
       " 27.3216,\n",
       " 27.3047,\n",
       " 27.2905,\n",
       " 27.2905,\n",
       " 27.2905,\n",
       " 27.2301,\n",
       " 27.2132,\n",
       " 27.2205,\n",
       " 27.2405,\n",
       " 27.1915,\n",
       " 27.1915,\n",
       " 27.1915,\n",
       " 27.048,\n",
       " 26.9805,\n",
       " 26.906,\n",
       " 26.8628,\n",
       " 26.8867,\n",
       " 26.8867,\n",
       " 26.8867,\n",
       " 26.8168,\n",
       " 26.8444,\n",
       " 26.8411,\n",
       " 26.9094,\n",
       " 26.9395,\n",
       " 26.9395,\n",
       " 26.9395,\n",
       " 26.8346,\n",
       " 26.8011,\n",
       " 26.7557,\n",
       " 26.8042,\n",
       " 26.7686,\n",
       " 26.7686,\n",
       " 26.7686,\n",
       " 26.6931,\n",
       " 26.6457,\n",
       " 26.6752,\n",
       " 26.6455,\n",
       " 26.6504,\n",
       " 26.6504,\n",
       " 26.6504,\n",
       " 26.6504,\n",
       " 26.6504,\n",
       " 26.6718,\n",
       " 26.7074,\n",
       " 26.7744,\n",
       " 26.929,\n",
       " 26.929,\n",
       " 26.929,\n",
       " 26.8601,\n",
       " 26.8928,\n",
       " 27.0029,\n",
       " 27.0247,\n",
       " 27.0247,\n",
       " 27.0247,\n",
       " 26.9298,\n",
       " 26.8102,\n",
       " 26.7317,\n",
       " 26.7452,\n",
       " 26.7264,\n",
       " 26.7264,\n",
       " 26.7264,\n",
       " 26.6782,\n",
       " 26.692,\n",
       " 26.6362,\n",
       " 26.645,\n",
       " 26.6672,\n",
       " 26.6672,\n",
       " 26.6672,\n",
       " 26.7028,\n",
       " 26.7072,\n",
       " 26.7081,\n",
       " 26.6714,\n",
       " 26.5272,\n",
       " 26.5272,\n",
       " 26.5272,\n",
       " 26.6422,\n",
       " 26.6556,\n",
       " 26.5698,\n",
       " 26.576,\n",
       " 26.6175,\n",
       " 26.6175,\n",
       " 26.6175,\n",
       " 26.61,\n",
       " 26.5722,\n",
       " 26.4244,\n",
       " 26.3503,\n",
       " 26.3314,\n",
       " 26.3314,\n",
       " 26.3314,\n",
       " 26.3515,\n",
       " 26.36,\n",
       " 26.349,\n",
       " 26.349,\n",
       " 26.349,\n",
       " 26.349,\n",
       " 26.349,\n",
       " 26.3419,\n",
       " 26.3356,\n",
       " 26.272,\n",
       " 26.2078,\n",
       " 26.2016,\n",
       " 26.2918,\n",
       " 26.2918,\n",
       " 26.2918,\n",
       " 26.3509,\n",
       " 26.419,\n",
       " 26.3712,\n",
       " 26.3265,\n",
       " 26.3265,\n",
       " 26.3265,\n",
       " 26.2767,\n",
       " 26.2933,\n",
       " 26.2904,\n",
       " 26.2431,\n",
       " 26.19,\n",
       " 26.19,\n",
       " 26.19,\n",
       " 26.102,\n",
       " 26.0806,\n",
       " 26.0927,\n",
       " 26.0575,\n",
       " 26.1022,\n",
       " 26.1022,\n",
       " 26.1022,\n",
       " 26.1107,\n",
       " 26.3371,\n",
       " 26.4133,\n",
       " 26.5147,\n",
       " 26.4427,\n",
       " 26.4427,\n",
       " 26.4427,\n",
       " 26.5694,\n",
       " 26.6588,\n",
       " 26.8604,\n",
       " 26.9273,\n",
       " 27.0256,\n",
       " 27.0256,\n",
       " 27.0256,\n",
       " 27.1033,\n",
       " 27.1739,\n",
       " 27.2142,\n",
       " 27.2296,\n",
       " 27.2933,\n",
       " 27.2933,\n",
       " 27.2933,\n",
       " 27.2981,\n",
       " 27.3791,\n",
       " 27.3317,\n",
       " 27.2167,\n",
       " 27.1013,\n",
       " 27.1013,\n",
       " 27.1013,\n",
       " 27.0241,\n",
       " 26.8846,\n",
       " 26.9985,\n",
       " 27.196,\n",
       " 27.1929,\n",
       " 27.1929,\n",
       " 27.1929,\n",
       " 27.2483,\n",
       " 27.2846,\n",
       " 27.2598,\n",
       " 27.2508,\n",
       " 27.2747,\n",
       " 27.2747,\n",
       " 27.2747,\n",
       " 27.2747,\n",
       " 27.2306,\n",
       " 27.2235,\n",
       " 27.2077,\n",
       " 27.2782]"
      ]
     },
     "execution_count": 66,
     "metadata": {},
     "output_type": "execute_result"
    }
   ],
   "source": [
    "rates = list(map(lambda x: float(x.split(',')[5]), downloaded))\n",
    "\n",
    "dates = []\n",
    "indices = []\n",
    "\n",
    "print(len(downloaded))\n",
    "for index, entry in enumerate(downloaded):\n",
    "    if(index % 26 == 0):\n",
    "        dates.append(entry.split(',')[0])\n",
    "        indices.append(index)\n",
    "\n",
    "rates"
   ]
  },
  {
   "cell_type": "code",
   "execution_count": 67,
   "id": "ae56ae88",
   "metadata": {},
   "outputs": [
    {
     "data": {
      "image/png": "[encoded data removed]",
      "text/plain": [
       "<Figure size 640x480 with 1 Axes>"
      ]
     },
     "metadata": {},
     "output_type": "display_data"
    }
   ],
   "source": [
    "import matplotlib.pyplot as plt\n",
    "\n",
    "plt.ylim([24, 30])\n",
    "plt.ylabel('Rate')\n",
    "plt.xlabel('Month')\n",
    "\n",
    "plt.title('Rate of exchange of UA hryvnia to USD, 2021')\n",
    "\n",
    "plt.xticks(indices, dates, rotation='vertical')\n",
    "\n",
    "plt.plot(rates)\n",
    "\n",
    "result_name = 'result.png'\n",
    "plt.savefig(result_name)\n",
    "plt.show()"
   ]
  },
  {
   "cell_type": "code",
   "execution_count": 68,
   "id": "a02d062a",
   "metadata": {},
   "outputs": [
    {
     "data": {
      "text/plain": [
       "True"
      ]
     },
     "execution_count": 68,
     "metadata": {},
     "output_type": "execute_result"
    }
   ],
   "source": [
    "object_name = os.path.basename(result_name)\n",
    "\n",
    "upload_file(result_name, bucket_name, object_name)"
   ]
  }
 ],
 "metadata": {
  "kernelspec": {
   "display_name": "Python 3 (ipykernel)",
   "language": "python",
   "name": "python3"
  },
  "language_info": {
   "codemirror_mode": {
    "name": "ipython",
    "version": 3
   },
   "file_extension": ".py",
   "mimetype": "text/x-python",
   "name": "python",
   "nbconvert_exporter": "python",
   "pygments_lexer": "ipython3",
   "version": "3.8.10"
  }
 },
 "nbformat": 4,
 "nbformat_minor": 5
}
